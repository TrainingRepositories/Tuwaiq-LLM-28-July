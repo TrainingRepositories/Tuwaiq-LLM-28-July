{
 "cells": [
  {
   "cell_type": "code",
   "execution_count": 1,
   "id": "bba51c6a-b8f3-4d20-a051-255c7bfc3e4e",
   "metadata": {},
   "outputs": [],
   "source": [
    "import spacy\n",
    "from spacy.lang.en.stop_words import STOP_WORDS\n",
    "from string import punctuation\n",
    "from collections import Counter\n",
    "from heapq import nlargest"
   ]
  },
  {
   "cell_type": "markdown",
   "id": "98908fb6-1088-4ac9-a915-8caced298dfd",
   "metadata": {},
   "source": [
    "# Basic NLP"
   ]
  },
  {
   "cell_type": "code",
   "execution_count": 34,
   "id": "3a3ad6eb-ad2d-4d59-81b2-1b531d90fd0a",
   "metadata": {},
   "outputs": [
    {
     "data": {
      "text/plain": [
       "'ماما نورة مكان جميل لل كل المنزلي اللذيذ  ال طباق متنوعة والعيش طازج  الخدمة ممتازة والجلسات مريحة   نصح بتجربته '"
      ]
     },
     "execution_count": 34,
     "metadata": {},
     "output_type": "execute_result"
    }
   ],
   "source": [
    "# Data Cleaning\n",
    "\n",
    "import re\n",
    "\n",
    "#sample review from the IMDB dataset.\n",
    "ar_review = \"<b>ماما نورة</b> مكان جميل للأكل المنزلي اللذيذ! الأطباق متنوعة والعيش طازج. الخدمة ممتازة والجلسات مريحة. أنصح بتجربته.\"\n",
    "\n",
    "\n",
    "cleaned_review_ar = re.sub(re.compile('<.*?>'), '', ar_review)  # Remove HTML tags\n",
    "cleaned_review_ar = re.sub(r'[^ا-ي0-9\\s]+', ' ', cleaned_review_ar)  # Remove non-Arabic characters and digits, keeping spaces\n",
    "\n",
    "cleaned_review_ar"
   ]
  },
  {
   "cell_type": "code",
   "execution_count": 35,
   "id": "4ec7ef85-a239-4505-9618-a462d4a976e3",
   "metadata": {},
   "outputs": [
    {
     "data": {
      "text/plain": [
       "'ماما نورة مكان جميل للأكل المنزلي اللذيذ  الأطباق متنوعة والعيش طازج  الخدمة ممتازة والجلسات مريحة  أنصح بتجربته '"
      ]
     },
     "execution_count": 35,
     "metadata": {},
     "output_type": "execute_result"
    }
   ],
   "source": [
    "# Data Cleaning\n",
    "\n",
    "import re\n",
    "\n",
    "#sample review from the IMDB dataset.\n",
    "ar_review = \"<b>ماما نورة</b> مكان جميل للأكل المنزلي اللذيذ! الأطباق متنوعة والعيش طازج. الخدمة ممتازة والجلسات مريحة. أنصح بتجربته.\"\n",
    "\n",
    "\n",
    "cleaned_review_ar = re.sub(re.compile('<.*?>'), '', ar_review)  # Remove HTML tags\n",
    "cleaned_review_ar = re.sub(r'[^\\u0600-\\u06FF]', ' ', cleaned_review_ar)  # Remove non-Arabic characters and digits, keeping spaces\n",
    "\n",
    "cleaned_review_ar"
   ]
  },
  {
   "cell_type": "code",
   "execution_count": 36,
   "id": "f602f773-d449-40d0-beb1-4e9019792ff8",
   "metadata": {},
   "outputs": [
    {
     "name": "stdout",
     "output_type": "stream",
     "text": [
      "a touching movie it is full of emotions and wonderful acting i could have sat through it a second time \n"
     ]
    }
   ],
   "source": [
    "#Lowercase\n",
    "\n",
    "cleaned_review = cleaned_review.lower()\n",
    "\n",
    "print(cleaned_review)"
   ]
  },
  {
   "cell_type": "code",
   "execution_count": 6,
   "id": "3ad3e916-2ffb-41e4-b0ec-1b47fa853ee2",
   "metadata": {},
   "outputs": [
    {
     "name": "stderr",
     "output_type": "stream",
     "text": [
      "[nltk_data] Downloading package punkt to\n",
      "[nltk_data]     /Users/abdulwahabmac/nltk_data...\n",
      "[nltk_data]   Package punkt is already up-to-date!\n"
     ]
    },
    {
     "data": {
      "text/plain": [
       "True"
      ]
     },
     "execution_count": 6,
     "metadata": {},
     "output_type": "execute_result"
    }
   ],
   "source": [
    "# Tokenization\n",
    "\n",
    "import nltk\n",
    "nltk.download('punkt')"
   ]
  },
  {
   "cell_type": "code",
   "execution_count": 7,
   "id": "2913e7e1-c37e-4e0e-8d7f-e2ce7f765e3a",
   "metadata": {},
   "outputs": [
    {
     "name": "stdout",
     "output_type": "stream",
     "text": [
      "a touching movie it is full of emotions and wonderful acting i could have sat through it a second time \n",
      "['a', 'touching', 'movie', 'it', 'is', 'full', 'of', 'emotions', 'and', 'wonderful', 'acting', 'i', 'could', 'have', 'sat', 'through', 'it', 'a', 'second', 'time']\n"
     ]
    }
   ],
   "source": [
    "\n",
    "\n",
    "from nltk.tokenize import word_tokenize\n",
    "\n",
    "tokens = nltk.word_tokenize(cleaned_review)\n",
    "\n",
    "print(cleaned_review)\n",
    "print(tokens)"
   ]
  },
  {
   "cell_type": "code",
   "execution_count": 8,
   "id": "326846b9-cc42-4f15-a7fe-82294ce0892f",
   "metadata": {},
   "outputs": [
    {
     "name": "stdout",
     "output_type": "stream",
     "text": [
      "ماما نورة مكان جميل للأكل المنزلي اللذيذ  الأطباق متنوعة والعيش طازج  الخدمة ممتازة والجلسات مريحة  أنصح بتجربته \n",
      "['ماما', 'نورة', 'مكان', 'جميل', 'للأكل', 'المنزلي', 'اللذيذ', 'الأطباق', 'متنوعة', 'والعيش', 'طازج', 'الخدمة', 'ممتازة', 'والجلسات', 'مريحة', 'أنصح', 'بتجربته']\n"
     ]
    }
   ],
   "source": [
    "# Tokenization\n",
    "ar_tokens = nltk.word_tokenize(cleaned_review_ar)\n",
    "\n",
    "print(cleaned_review_ar)\n",
    "print(ar_tokens)"
   ]
  },
  {
   "cell_type": "code",
   "execution_count": 9,
   "id": "375d849a-f3df-4902-852b-b9f9e1b28d68",
   "metadata": {},
   "outputs": [
    {
     "data": {
      "text/plain": [
       "['ماما',\n",
       " 'نورة',\n",
       " 'مكان',\n",
       " 'جميل',\n",
       " 'للأكل',\n",
       " 'المنزلي',\n",
       " 'اللذيذ',\n",
       " 'الأطباق',\n",
       " 'متنوعة',\n",
       " 'والعيش',\n",
       " 'طازج',\n",
       " 'الخدمة',\n",
       " 'ممتازة',\n",
       " 'والجلسات',\n",
       " 'مريحة',\n",
       " 'أنصح',\n",
       " 'بتجربته']"
      ]
     },
     "execution_count": 9,
     "metadata": {},
     "output_type": "execute_result"
    }
   ],
   "source": [
    "ar_tokens"
   ]
  },
  {
   "cell_type": "code",
   "execution_count": 10,
   "id": "51f2779b-91a6-4ba6-8103-432d7185db08",
   "metadata": {},
   "outputs": [
    {
     "name": "stdout",
     "output_type": "stream",
     "text": [
      "['touching', 'movie', 'full', 'emotions', 'wonderful', 'acting', 'could', 'sat', 'second', 'time']\n"
     ]
    },
    {
     "name": "stderr",
     "output_type": "stream",
     "text": [
      "[nltk_data] Downloading package stopwords to\n",
      "[nltk_data]     /Users/abdulwahabmac/nltk_data...\n",
      "[nltk_data]   Package stopwords is already up-to-date!\n"
     ]
    }
   ],
   "source": [
    "# Stop words removal\n",
    "\n",
    "nltk.download('stopwords')\n",
    "\n",
    "from nltk.corpus import stopwords\n",
    "\n",
    "stop_words = stopwords.words('english')\n",
    "\n",
    "filtered_review = [word for word in tokens if word not in stop_words] # removing stop words\n",
    "\n",
    "print(filtered_review)"
   ]
  },
  {
   "cell_type": "code",
   "execution_count": 11,
   "id": "db14cb36-070e-46d7-b0a7-643fbb301eaa",
   "metadata": {},
   "outputs": [],
   "source": [
    "stop_words.append('Hamza')"
   ]
  },
  {
   "cell_type": "code",
   "execution_count": 12,
   "id": "d6a331c0-499e-447e-9218-e86694a53001",
   "metadata": {},
   "outputs": [
    {
     "name": "stdout",
     "output_type": "stream",
     "text": [
      "['ماما', 'نورة', 'مكان', 'جميل', 'للأكل', 'المنزلي', 'اللذيذ', 'الأطباق', 'متنوعة', 'والعيش', 'طازج', 'الخدمة', 'ممتازة', 'والجلسات', 'مريحة', 'أنصح', 'بتجربته']\n"
     ]
    }
   ],
   "source": [
    "# Arabic Stop words removal\n",
    "\n",
    "stop_words = stopwords.words('arabic')\n",
    "\n",
    "filtered_ar_review = [word for word in ar_tokens if word not in stop_words] # removing stop words\n",
    "\n",
    "print(filtered_ar_review)"
   ]
  },
  {
   "cell_type": "code",
   "execution_count": 13,
   "id": "e0bdf6fd-aae9-46c2-a6ce-405651302a10",
   "metadata": {},
   "outputs": [
    {
     "name": "stderr",
     "output_type": "stream",
     "text": [
      "[nltk_data] Downloading package wordnet to\n",
      "[nltk_data]     /Users/abdulwahabmac/nltk_data...\n",
      "[nltk_data]   Package wordnet is already up-to-date!\n",
      "[nltk_data] Downloading package omw-1.4 to\n",
      "[nltk_data]     /Users/abdulwahabmac/nltk_data...\n",
      "[nltk_data]   Package omw-1.4 is already up-to-date!\n"
     ]
    }
   ],
   "source": [
    "nltk.download('wordnet')\n",
    "nltk.download('omw-1.4')\n",
    "from nltk.stem import WordNetLemmatizer\n"
   ]
  },
  {
   "cell_type": "code",
   "execution_count": 14,
   "id": "d358166b-d6a6-4306-8bd4-3d21d1b55d97",
   "metadata": {},
   "outputs": [
    {
     "name": "stdout",
     "output_type": "stream",
     "text": [
      "['touching', 'movie', 'full', 'emotion', 'wonderful', 'acting', 'could', 'sat', 'second', 'time']\n"
     ]
    }
   ],
   "source": [
    "\n",
    "\n",
    "lemmatizer = WordNetLemmatizer()\n",
    "\n",
    "lemm_review = [lemmatizer.lemmatize(word) for word in filtered_review]\n",
    "\n",
    "print(lemm_review)"
   ]
  },
  {
   "cell_type": "code",
   "execution_count": 15,
   "id": "78d72e8a-9c41-48f8-8d20-3684d84e2ae5",
   "metadata": {},
   "outputs": [
    {
     "name": "stdout",
     "output_type": "stream",
     "text": [
      "['اما', 'نور', 'كان', 'جمل', 'اكل', 'زلي', 'لذذ', 'طبق', 'تنع', 'عيش', 'طزج', 'خدم', 'متز', 'جلس', 'ريح', 'نصح', 'جرب']\n"
     ]
    }
   ],
   "source": [
    "from nltk.stem.isri import ISRIStemmer\n",
    "\n",
    "\n",
    "ar_lemmatizer = ISRIStemmer()\n",
    "\n",
    "lemm_ar_review = [ar_lemmatizer.stem(word) for word in filtered_ar_review]\n",
    "\n",
    "print(lemm_ar_review)"
   ]
  },
  {
   "cell_type": "code",
   "execution_count": 17,
   "id": "e4f38641-476f-4dc2-aabd-7ef8955fbe27",
   "metadata": {},
   "outputs": [
    {
     "name": "stderr",
     "output_type": "stream",
     "text": [
      "[nltk_data] Downloading package averaged_perceptron_tagger to\n",
      "[nltk_data]     /Users/abdulwahabmac/nltk_data...\n",
      "[nltk_data]   Package averaged_perceptron_tagger is already up-to-\n",
      "[nltk_data]       date!\n"
     ]
    },
    {
     "data": {
      "text/plain": [
       "True"
      ]
     },
     "execution_count": 17,
     "metadata": {},
     "output_type": "execute_result"
    }
   ],
   "source": [
    "from nltk import word_tokenize, pos_tag\n",
    "nltk.download('averaged_perceptron_tagger')"
   ]
  },
  {
   "cell_type": "code",
   "execution_count": 18,
   "id": "0c99eb40-4ba7-4748-907e-16636496fab5",
   "metadata": {},
   "outputs": [
    {
     "name": "stdout",
     "output_type": "stream",
     "text": [
      "[('I', 'PRP'), ('am', 'VBP'), ('learning', 'VBG'), ('Natural', 'NNP'), ('Language', 'NNP'), ('Processing', 'NNP'), ('on', 'IN'), ('Analytics', 'NNP'), ('Vidhya', 'NNP')]\n"
     ]
    }
   ],
   "source": [
    "\n",
    "text = \"I am learning Natural Language Processing on Analytics Vidhya\"\n",
    "tokens = word_tokenize(text)\n",
    "print (pos_tag(tokens))"
   ]
  },
  {
   "cell_type": "code",
   "execution_count": 19,
   "id": "b7b7e239-71dd-4754-b13e-f9decd9a5804",
   "metadata": {},
   "outputs": [
    {
     "name": "stdout",
     "output_type": "stream",
     "text": [
      "[('إغلاق', 'JJ'), ('المتصفحات', 'NNP'), ('الغير', 'NNP'), ('ضرورية', 'NN')]\n"
     ]
    }
   ],
   "source": [
    "\n",
    "\n",
    "text = \"إغلاق المتصفحات الغير ضرورية\"\n",
    "\n",
    "tokens = word_tokenize(text)\n",
    "print (pos_tag(tokens))"
   ]
  },
  {
   "cell_type": "markdown",
   "id": "5bcad748-17bc-42b2-ad44-531fffcfbd49",
   "metadata": {},
   "source": [
    "# Spacy"
   ]
  },
  {
   "cell_type": "code",
   "execution_count": 24,
   "id": "a5868981-d01c-421d-b02f-d21e2196cf70",
   "metadata": {},
   "outputs": [],
   "source": [
    "import os\n",
    "import spacy\n",
    "nlp = spacy.load(\"en_core_web_sm\")\n",
    "from spacy import displacy"
   ]
  },
  {
   "cell_type": "code",
   "execution_count": 25,
   "id": "9a76eb06-c243-4e98-80cb-4e01c4b2bcae",
   "metadata": {},
   "outputs": [
    {
     "name": "stdout",
     "output_type": "stream",
     "text": [
      "['tok2vec', 'tagger', 'parser', 'attribute_ruler', 'lemmatizer', 'ner']\n"
     ]
    }
   ],
   "source": [
    "print(nlp.pipe_names)"
   ]
  },
  {
   "cell_type": "code",
   "execution_count": 26,
   "id": "3a35f07f-8220-4591-9f46-fec4d337a5b0",
   "metadata": {},
   "outputs": [
    {
     "name": "stdout",
     "output_type": "stream",
     "text": [
      "[('tok2vec', <spacy.pipeline.tok2vec.Tok2Vec object at 0x29ee02f80>), ('tagger', <spacy.pipeline.tagger.Tagger object at 0x29ee02e60>), ('parser', <spacy.pipeline.dep_parser.DependencyParser object at 0x29875d540>), ('attribute_ruler', <spacy.pipeline.attributeruler.AttributeRuler object at 0x29f1e8b80>), ('lemmatizer', <spacy.lang.en.lemmatizer.EnglishLemmatizer object at 0x29f1c6a40>), ('ner', <spacy.pipeline.ner.EntityRecognizer object at 0x29875d380>)]\n"
     ]
    }
   ],
   "source": [
    "print(nlp.pipeline)"
   ]
  },
  {
   "cell_type": "code",
   "execution_count": 27,
   "id": "300da8b9-b98b-42ac-b4c5-f5ac3dfcf8fa",
   "metadata": {},
   "outputs": [
    {
     "data": {
      "text/html": [
       "<span class=\"tex2jax_ignore\"><div class=\"entities\" style=\"line-height: 2.5; direction: ltr\">Looking for a hotel in \n",
       "<mark class=\"entity\" style=\"background: #feca74; padding: 0.45em 0.6em; margin: 0 0.25em; line-height: 1; border-radius: 0.35em;\">\n",
       "    New York\n",
       "    <span style=\"font-size: 0.8em; font-weight: bold; line-height: 1; border-radius: 0.35em; vertical-align: middle; margin-left: 0.5rem\">GPE</span>\n",
       "</mark>\n",
       " near \n",
       "<mark class=\"entity\" style=\"background: #9cc9cc; padding: 0.45em 0.6em; margin: 0 0.25em; line-height: 1; border-radius: 0.35em;\">\n",
       "    Times Square\n",
       "    <span style=\"font-size: 0.8em; font-weight: bold; line-height: 1; border-radius: 0.35em; vertical-align: middle; margin-left: 0.5rem\">FAC</span>\n",
       "</mark>\n",
       " with free breakfast and cheaper<br>than $\n",
       "<mark class=\"entity\" style=\"background: #e4e7d2; padding: 0.45em 0.6em; margin: 0 0.25em; line-height: 1; border-radius: 0.35em;\">\n",
       "    100\n",
       "    <span style=\"font-size: 0.8em; font-weight: bold; line-height: 1; border-radius: 0.35em; vertical-align: middle; margin-left: 0.5rem\">MONEY</span>\n",
       "</mark>\n",
       " for \n",
       "<mark class=\"entity\" style=\"background: #bfe1d9; padding: 0.45em 0.6em; margin: 0 0.25em; line-height: 1; border-radius: 0.35em;\">\n",
       "    2nd June\n",
       "    <span style=\"font-size: 0.8em; font-weight: bold; line-height: 1; border-radius: 0.35em; vertical-align: middle; margin-left: 0.5rem\">DATE</span>\n",
       "</mark>\n",
       " which is really kids friendly and has a swimming pool and I want to stay there for \n",
       "<mark class=\"entity\" style=\"background: #bfe1d9; padding: 0.45em 0.6em; margin: 0 0.25em; line-height: 1; border-radius: 0.35em;\">\n",
       "    8 days\n",
       "    <span style=\"font-size: 0.8em; font-weight: bold; line-height: 1; border-radius: 0.35em; vertical-align: middle; margin-left: 0.5rem\">DATE</span>\n",
       "</mark>\n",
       "</div></span>"
      ],
      "text/plain": [
       "<IPython.core.display.HTML object>"
      ]
     },
     "metadata": {},
     "output_type": "display_data"
    }
   ],
   "source": [
    "text = \"\"\"Looking for a hotel in New York near Times Square with free breakfast and cheaper\n",
    "than $100 for 2nd June which is really kids friendly and has a swimming pool and I want to stay there for 8 days\"\"\"\n",
    "doc = nlp(text)\n",
    "sentence_spans = list(doc.sents)\n",
    "displacy.render(doc, jupyter = True, style=\"ent\")"
   ]
  },
  {
   "cell_type": "code",
   "execution_count": 28,
   "id": "531f14de-6764-4f2a-b261-e9af95868775",
   "metadata": {},
   "outputs": [
    {
     "data": {
      "text/html": [
       "<span class=\"tex2jax_ignore\"><div class=\"entities\" style=\"line-height: 2.5; direction: ltr\">Close to \n",
       "<mark class=\"entity\" style=\"background: #9cc9cc; padding: 0.45em 0.6em; margin: 0 0.25em; line-height: 1; border-radius: 0.35em;\">\n",
       "    the Effiel Tower\n",
       "    <span style=\"font-size: 0.8em; font-weight: bold; line-height: 1; border-radius: 0.35em; vertical-align: middle; margin-left: 0.5rem\">FAC</span>\n",
       "</mark>\n",
       " and is very high end with great shopping nearby</div></span>"
      ],
      "text/plain": [
       "<IPython.core.display.HTML object>"
      ]
     },
     "metadata": {},
     "output_type": "display_data"
    }
   ],
   "source": [
    "text = \"\"\"Close to the Effiel Tower and is very high end with great shopping nearby\"\"\"\n",
    "doc = nlp(text)\n",
    "sentence_spans = list(doc.sents)\n",
    "displacy.render(doc, jupyter = True, style=\"ent\")"
   ]
  },
  {
   "cell_type": "code",
   "execution_count": 29,
   "id": "bbb34fbf-f4c7-4797-a508-a85548da52a9",
   "metadata": {},
   "outputs": [],
   "source": [
    "text = \"I want to stay in a European city that filmed Game of Thrones and has very cheap booze and art galleries for 4 days\""
   ]
  },
  {
   "cell_type": "code",
   "execution_count": 30,
   "id": "de6de4a5-7439-48b9-9024-c71560212c11",
   "metadata": {},
   "outputs": [
    {
     "data": {
      "text/html": [
       "<span class=\"tex2jax_ignore\"><div class=\"entities\" style=\"line-height: 2.5; direction: ltr\">I want to stay in a \n",
       "<mark class=\"entity\" style=\"background: #c887fb; padding: 0.45em 0.6em; margin: 0 0.25em; line-height: 1; border-radius: 0.35em;\">\n",
       "    European\n",
       "    <span style=\"font-size: 0.8em; font-weight: bold; line-height: 1; border-radius: 0.35em; vertical-align: middle; margin-left: 0.5rem\">NORP</span>\n",
       "</mark>\n",
       " city that filmed Game of \n",
       "<mark class=\"entity\" style=\"background: #7aecec; padding: 0.45em 0.6em; margin: 0 0.25em; line-height: 1; border-radius: 0.35em;\">\n",
       "    Thrones\n",
       "    <span style=\"font-size: 0.8em; font-weight: bold; line-height: 1; border-radius: 0.35em; vertical-align: middle; margin-left: 0.5rem\">ORG</span>\n",
       "</mark>\n",
       " and has very cheap booze and art galleries for \n",
       "<mark class=\"entity\" style=\"background: #bfe1d9; padding: 0.45em 0.6em; margin: 0 0.25em; line-height: 1; border-radius: 0.35em;\">\n",
       "    4 days\n",
       "    <span style=\"font-size: 0.8em; font-weight: bold; line-height: 1; border-radius: 0.35em; vertical-align: middle; margin-left: 0.5rem\">DATE</span>\n",
       "</mark>\n",
       "</div></span>"
      ],
      "text/plain": [
       "<IPython.core.display.HTML object>"
      ]
     },
     "metadata": {},
     "output_type": "display_data"
    }
   ],
   "source": [
    "#text = \"\"\"My very photogenic mother died in a freak accident (picnic, lightning) when I was three, and, save for a pocket of warmth in the darkest past, nothing of her subsists within the hollows and dells of memory, over which, if you can still stand my style (I am writing under observation), the sun of my infancy had set: surely, you all know those redolent remnants of day suspended, with the midges, about some hedge in bloom or suddenly entered and traversed by the rambler, at the bottom of a hill, in the summer dusk; a furry warmth, golden midges\"\"\"\n",
    "doc = nlp(text)\n",
    "sentence_spans = list(doc.sents)\n",
    "displacy.render(doc, jupyter = True, style=\"ent\")"
   ]
  },
  {
   "cell_type": "code",
   "execution_count": 32,
   "id": "105766ce-4bc5-40e9-bb83-9fa35224e024",
   "metadata": {},
   "outputs": [
    {
     "data": {
      "text/plain": [
       "'Nationalities or religious or political groups'"
      ]
     },
     "execution_count": 32,
     "metadata": {},
     "output_type": "execute_result"
    }
   ],
   "source": [
    "spacy.explain(\"NORP\")"
   ]
  },
  {
   "cell_type": "code",
   "execution_count": 38,
   "id": "e9041b45-02ec-44c5-8aac-9269c5a2b4db",
   "metadata": {},
   "outputs": [
    {
     "data": {
      "text/plain": [
       "'Companies, agencies, institutions, etc.'"
      ]
     },
     "execution_count": 38,
     "metadata": {},
     "output_type": "execute_result"
    }
   ],
   "source": [
    "spacy.explain(\"ORG\")"
   ]
  },
  {
   "cell_type": "code",
   "execution_count": null,
   "id": "a9a092ac-f2e2-4362-860c-10dd02e5ceab",
   "metadata": {},
   "outputs": [],
   "source": []
  },
  {
   "cell_type": "code",
   "execution_count": null,
   "id": "8aa67e05-a1ae-4e6d-9f31-8c1a22fa198e",
   "metadata": {},
   "outputs": [],
   "source": []
  },
  {
   "cell_type": "code",
   "execution_count": null,
   "id": "e380b4d1-4dbc-4a2c-a6a7-6796860b574e",
   "metadata": {},
   "outputs": [],
   "source": []
  },
  {
   "cell_type": "code",
   "execution_count": null,
   "id": "979e99f3-bcec-4bbb-9e56-293c6cb041f9",
   "metadata": {},
   "outputs": [],
   "source": []
  },
  {
   "cell_type": "code",
   "execution_count": null,
   "id": "124763b9-5719-4f0e-a5a9-1a7b18b8cf9d",
   "metadata": {},
   "outputs": [],
   "source": []
  }
 ],
 "metadata": {
  "kernelspec": {
   "display_name": "Python 3 (ipykernel)",
   "language": "python",
   "name": "python3"
  },
  "language_info": {
   "codemirror_mode": {
    "name": "ipython",
    "version": 3
   },
   "file_extension": ".py",
   "mimetype": "text/x-python",
   "name": "python",
   "nbconvert_exporter": "python",
   "pygments_lexer": "ipython3",
   "version": "3.10.13"
  }
 },
 "nbformat": 4,
 "nbformat_minor": 5
}
