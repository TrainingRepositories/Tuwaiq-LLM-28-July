{
 "cells": [
  {
   "cell_type": "code",
   "execution_count": 1,
   "id": "1bd2ae51-a507-4f71-b5ef-d5e405516140",
   "metadata": {},
   "outputs": [
    {
     "name": "stderr",
     "output_type": "stream",
     "text": [
      "[nltk_data] Downloading package punkt to\n",
      "[nltk_data]     /Users/abdulwahabmac/nltk_data...\n",
      "[nltk_data]   Package punkt is already up-to-date!\n",
      "/Users/abdulwahabmac/Desktop/MyFiles/Projects/Training/Tuwaiq/Tuwaiq-LLM-28-July/.env/lib/python3.10/site-packages/sentence_transformers/cross_encoder/CrossEncoder.py:11: TqdmExperimentalWarning: Using `tqdm.autonotebook.tqdm` in notebook mode. Use `tqdm.tqdm` instead to force console mode (e.g. in jupyter console)\n",
      "  from tqdm.autonotebook import tqdm, trange\n"
     ]
    }
   ],
   "source": [
    "import nltk\n",
    "nltk.download('punkt')\n",
    "from nltk.tokenize import word_tokenize\n",
    "from nltk.corpus import stopwords\n",
    "from nltk.stem import PorterStemmer\n",
    "\n",
    "import math\n",
    "\n",
    "from sklearn.metrics.pairwise import cosine_similarity\n",
    "from sklearn.feature_extraction.text import TfidfVectorizer\n",
    "\n",
    "from scipy import spatial\n",
    "\n",
    "from sentence_transformers import SentenceTransformer\n",
    "from sentence_transformers import  util\n",
    "\n",
    "import scipy.spatial\n",
    "\n",
    "import pandas as pd\n",
    "import numpy as np\n"
   ]
  },
  {
   "cell_type": "code",
   "execution_count": 2,
   "id": "6d2d4945-65c8-479d-899f-d6c5fef64147",
   "metadata": {},
   "outputs": [],
   "source": [
    "\n",
    "model = SentenceTransformer(\"sentence-transformers/paraphrase-multilingual-MiniLM-L12-v2\")"
   ]
  },
  {
   "cell_type": "code",
   "execution_count": 9,
   "id": "ec815f4c-b2c6-4895-ad3b-eb4ade596036",
   "metadata": {},
   "outputs": [],
   "source": [
    "\n",
    "def preprocess_query(query):\n",
    "    # Tokenization, stop word removal, and stemming\n",
    "    stop_words = set(stopwords.words('arabic'))\n",
    "    stemmer = PorterStemmer()\n",
    "    tokens = query.lower().split()\n",
    "    filtered_tokens = [stemmer.stem(word) for word in tokens if word not in stop_words]\n",
    "    return ' '.join(filtered_tokens)\n"
   ]
  },
  {
   "cell_type": "code",
   "execution_count": 10,
   "id": "f0d90b7b-5a24-41bd-a8bf-15f44f2011ab",
   "metadata": {},
   "outputs": [],
   "source": [
    "\n",
    "def hybrid_search(query, top_k=3, weight_st=0.5, weight_tfidf=0.5):\n",
    "    # Encode the query using SentenceTransformers\n",
    "    query_preprocessed = preprocess_query(query)\n",
    "    query_embedding = model.encode([query_preprocessed], convert_to_tensor=True)\n",
    "\n",
    "    # Compute cosine similarities between the query and the documents using SentenceTransformers\n",
    "    cosine_scores = util.pytorch_cos_sim(query_embedding, document_embeddings)[0]\n",
    "\n",
    "    # Transform the query using the TF-IDF vectorizer\n",
    "    query_tfidf = tfidf_vectorizer.transform([query_preprocessed])\n",
    "\n",
    "    # Calculate cosine similarity between the query and the documents using TF-IDF\n",
    "    tfidf_similarities = cosine_similarity(query_tfidf, tfidf_matrix)[0]\n",
    "    #print(tfidf_similarities)\n",
    "\n",
    "    # Combine the scores with weights\n",
    "    combined_scores = (weight_st * cosine_scores.cpu().numpy() + weight_tfidf * tfidf_similarities) / (weight_st + weight_tfidf)\n",
    "    #print(combined_scores)\n",
    "\n",
    "    # Normalize scores (optional)\n",
    "    combined_scores = (combined_scores - np.min(combined_scores)) / (np.max(combined_scores) - np.min(combined_scores))\n",
    "\n",
    "    # Find the top_k highest scores\n",
    "    top_results = np.argpartition(-combined_scores, range(top_k))[:top_k]\n",
    "    #print(top_results)\n",
    "\n",
    "    print(f\"Query: {query}\\nTop {top_k} most similar arabic_documents:\")\n",
    "    for idx in top_results:\n",
    "        print(f\"Document: {arabic_documents[idx]}, Combined Score: {combined_scores[idx]:.4f}\")\n",
    "\n",
    "    return top_results, combined_scores\n",
    "\n"
   ]
  },
  {
   "cell_type": "code",
   "execution_count": 11,
   "id": "6fa04aeb-158c-4ae7-b1e7-d7cbb99aa180",
   "metadata": {},
   "outputs": [],
   "source": [
    "\n",
    "# Example documents\n",
    "arabic_documents  = [\n",
    "    \"حقق الهلال بطولة دوري أبطال آسيا في عام 2019.\",\n",
    "    \"تمكن النصر من الفوز بكأس السوبر السعودي في عام 2020.\",\n",
    "    \"سجل سالم الدوسري هدفًا رائعًا في نهائي دوري أبطال آسيا لصالح فريق الهلال.\",\n",
    "    \"قاد عبدالرزاق حمدالله فريق النصر للفوز بالدوري السعودي في موسم 2018-2019.\",\n",
    "    \"تألق محمد كنو في وسط ميدان الهلال وساهم في تحقيق العديد من البطولات.\",\n",
    "    \"فاز الاتحاد ببطولة دوري أبطال آسيا مرتين في عامي 2004 و2005.\",\n",
    "    \"سجل عمر السومة العديد من الأهداف الحاسمة لصالح فريق الأهلي في الدوري السعودي.\",\n",
    "    \"توج الشباب بلقب الدوري السعودي ست مرات في تاريخه.\",\n",
    "    \"ساهم ياسر القحطاني في تحقيق الهلال للعديد من البطولات المحلية والقارية.\",\n",
    "    \"فاز نادي الاتفاق بكأس الملك في عدة مناسبات.\"\n",
    "]"
   ]
  },
  {
   "cell_type": "code",
   "execution_count": 12,
   "id": "66030932-a1b3-4876-a8b9-3dedb3fb265a",
   "metadata": {},
   "outputs": [],
   "source": [
    "\n",
    "# Encode the documents using SentenceTransformers\n",
    "document_embeddings = model.encode(arabic_documents, convert_to_tensor=True)\n",
    "\n",
    "# Create a TF-IDF Vectorizer and fit on the documents\n",
    "tfidf_vectorizer = TfidfVectorizer()\n",
    "tfidf_matrix = tfidf_vectorizer.fit_transform(arabic_documents)\n"
   ]
  },
  {
   "cell_type": "code",
   "execution_count": null,
   "id": "ad76e4c6-93ef-4305-ac11-fbca9d393568",
   "metadata": {},
   "outputs": [
    {
     "name": "stdin",
     "output_type": "stream",
     "text": [
      "Enter your query (or type 'exit' to quit):  افضل نادي\n"
     ]
    },
    {
     "name": "stdout",
     "output_type": "stream",
     "text": [
      "Query: افضل نادي\n",
      "Top 3 most similar arabic_documents:\n",
      "Document: فاز نادي الاتفاق بكأس الملك في عدة مناسبات., Combined Score: 1.0000\n",
      "Document: سجل سالم الدوسري هدفًا رائعًا في نهائي دوري أبطال آسيا لصالح فريق الهلال., Combined Score: 0.1813\n",
      "Document: سجل عمر السومة العديد من الأهداف الحاسمة لصالح فريق الأهلي في الدوري السعودي., Combined Score: 0.1533\n",
      "Query: افضل نادي\n",
      "Top 3 most similar arabic_documents:\n",
      "Document: فاز نادي الاتفاق بكأس الملك في عدة مناسبات., Combined Score: 1.0000\n",
      "Document: سجل سالم الدوسري هدفًا رائعًا في نهائي دوري أبطال آسيا لصالح فريق الهلال., Combined Score: 0.1813\n",
      "Document: سجل عمر السومة العديد من الأهداف الحاسمة لصالح فريق الأهلي في الدوري السعودي., Combined Score: 0.1533\n"
     ]
    }
   ],
   "source": [
    "\n",
    "# Example usage with evaluation:\n",
    "while True:\n",
    "    user_query = input(\"Enter your query (or type 'exit' to quit): \")\n",
    "    if user_query.lower() == 'exit':\n",
    "        break\n",
    "    hybrid_search(user_query)\n",
    "\n",
    "    predicted_ranks, _ = hybrid_search(user_query)\n"
   ]
  },
  {
   "cell_type": "code",
   "execution_count": null,
   "id": "ec0812df-0367-43b5-ac32-2c3209cfc57f",
   "metadata": {},
   "outputs": [],
   "source": []
  },
  {
   "cell_type": "code",
   "execution_count": null,
   "id": "c20c280a-3d1b-4e6d-8a11-d370849d1d75",
   "metadata": {},
   "outputs": [],
   "source": []
  },
  {
   "cell_type": "code",
   "execution_count": null,
   "id": "094f86a7-05d2-4909-95d2-a2a7272097b8",
   "metadata": {},
   "outputs": [],
   "source": []
  }
 ],
 "metadata": {
  "kernelspec": {
   "display_name": "Python 3 (ipykernel)",
   "language": "python",
   "name": "python3"
  },
  "language_info": {
   "codemirror_mode": {
    "name": "ipython",
    "version": 3
   },
   "file_extension": ".py",
   "mimetype": "text/x-python",
   "name": "python",
   "nbconvert_exporter": "python",
   "pygments_lexer": "ipython3",
   "version": "3.10.13"
  }
 },
 "nbformat": 4,
 "nbformat_minor": 5
}
