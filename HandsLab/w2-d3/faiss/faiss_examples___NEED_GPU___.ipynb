{
  "cells": [
    {
      "cell_type": "code",
      "execution_count": 1,
      "metadata": {
        "colab": {
          "base_uri": "https://localhost:8080/"
        },
        "id": "dgmU_7eqzwXQ",
        "outputId": "50db624c-50c4-4fa8-870e-36c776eec985"
      },
      "outputs": [
        {
          "output_type": "stream",
          "name": "stdout",
          "text": [
            "\u001b[0m\u001b[01;34mdrive\u001b[0m/  \u001b[01;34msample_data\u001b[0m/\n"
          ]
        }
      ],
      "source": [
        "ls"
      ]
    },
    {
      "cell_type": "code",
      "execution_count": 1,
      "metadata": {
        "id": "SLEbX05B5jfw"
      },
      "outputs": [],
      "source": []
    },
    {
      "cell_type": "markdown",
      "source": [
        "## read data"
      ],
      "metadata": {
        "id": "wgWpRUulcTw3"
      }
    },
    {
      "cell_type": "code",
      "execution_count": 2,
      "metadata": {
        "colab": {
          "base_uri": "https://localhost:8080/"
        },
        "id": "WUhv7Hl20xpm",
        "outputId": "b08737f6-eea4-43e6-8f69-6b2a28c79b8a"
      },
      "outputs": [
        {
          "output_type": "execute_result",
          "data": {
            "text/plain": [
              "515738"
            ]
          },
          "metadata": {},
          "execution_count": 2
        }
      ],
      "source": [
        "import pandas as pd\n",
        "\n",
        "\n",
        "df = pd.read_csv('/content/drive/MyDrive/kaggle/Hotel_Reviews.csv')\n",
        "\n",
        "len(df)\n"
      ]
    },
    {
      "cell_type": "code",
      "source": [],
      "metadata": {
        "id": "2qxfhAWScPe-"
      },
      "execution_count": 2,
      "outputs": []
    },
    {
      "cell_type": "code",
      "execution_count": 3,
      "metadata": {
        "colab": {
          "base_uri": "https://localhost:8080/"
        },
        "id": "wFMxo2NM1HXA",
        "outputId": "14d257e7-a688-4991-e77c-b46d0af746ab"
      },
      "outputs": [
        {
          "output_type": "stream",
          "name": "stderr",
          "text": [
            "<ipython-input-3-3a434047499c>:3: UserWarning: Pandas doesn't allow columns to be created via a new attribute name - see https://pandas.pydata.org/pandas-docs/stable/indexing.html#attribute-access\n",
            "  df.all_review = df.apply(lambda x:f'{x[\"Positive_Review\"]} , {x[\"Negative_Review\"]}  ' ,axis=1)\n"
          ]
        },
        {
          "output_type": "execute_result",
          "data": {
            "text/plain": [
              "515738"
            ]
          },
          "metadata": {},
          "execution_count": 3
        }
      ],
      "source": [
        "\n",
        "# df.columns\n",
        "\n",
        "df.all_review = df.apply(lambda x:f'{x[\"Positive_Review\"]} , {x[\"Negative_Review\"]}  ' ,axis=1)\n",
        "\n",
        "sentences = [r for r in df.all_review]\n",
        "\n",
        "len(sentences)"
      ]
    },
    {
      "cell_type": "code",
      "source": [
        "for r in sentences[:10]:\n",
        "  print()\n",
        "  print()\n",
        "  print(r)\n",
        "  print()\n",
        "  print()"
      ],
      "metadata": {
        "colab": {
          "base_uri": "https://localhost:8080/"
        },
        "collapsed": true,
        "id": "DKqnVVhNcP92",
        "outputId": "0bd45496-b054-4982-8a79-a7c5e097d3a7"
      },
      "execution_count": 4,
      "outputs": [
        {
          "output_type": "stream",
          "name": "stdout",
          "text": [
            "\n",
            "\n",
            " Only the park outside of the hotel was beautiful  ,  I am so angry that i made this post available via all possible sites i use when planing my trips so no one will make the mistake of booking this place I made my booking via booking com We stayed for 6 nights in this hotel from 11 to 17 July Upon arrival we were placed in a small room on the 2nd floor of the hotel It turned out that this was not the room we booked I had specially reserved the 2 level duplex room so that we would have a big windows and high ceilings The room itself was ok if you don t mind the broken window that can not be closed hello rain and a mini fridge that contained some sort of a bio weapon at least i guessed so by the smell of it I intimately asked to change the room and after explaining 2 times that i booked a duplex btw it costs the same as a simple double but got way more volume due to the high ceiling was offered a room but only the next day SO i had to check out the next day before 11 o clock in order to get the room i waned to Not the best way to begin your holiday So we had to wait till 13 00 in order to check in my new room what a wonderful waist of my time The room 023 i got was just as i wanted to peaceful internal garden view big window We were tired from waiting the room so we placed our belongings and rushed to the city In the evening it turned out that there was a constant noise in the room i guess it was made by vibrating vent tubes or something it was constant and annoying as hell AND it did not stop even at 2 am making it hard to fall asleep for me and my wife I have an audio recording that i can not attach here but if you want i can send it via e mail The next day the technician came but was not able to determine the cause of the disturbing sound so i was offered to change the room once again the hotel was fully booked and they had only 1 room left the one that was smaller but seems newer   \n",
            "\n",
            "\n",
            "\n",
            "\n",
            " No real complaints the hotel was great great location surroundings rooms amenities and service Two recommendations however firstly the staff upon check in are very confusing regarding deposit payments and the staff offer you upon checkout to refund your original payment and you can make a new one Bit confusing Secondly the on site restaurant is a bit lacking very well thought out and excellent quality food for anyone of a vegetarian or vegan background but even a wrap or toasted sandwich option would be great Aside from those minor minor things fantastic spot and will be back when i return to Amsterdam  , No Negative  \n",
            "\n",
            "\n",
            "\n",
            "\n",
            " Location was good and staff were ok It is cute hotel the breakfast range is nice Will go back  ,  Rooms are nice but for elderly a bit difficult as most rooms are two story with narrow steps So ask for single level Inside the rooms are very very basic just tea coffee and boiler and no bar empty fridge   \n",
            "\n",
            "\n",
            "\n",
            "\n",
            " Great location in nice surroundings the bar and restaurant are nice and have a lovely outdoor area The building also has quite some character  ,  My room was dirty and I was afraid to walk barefoot on the floor which looked as if it was not cleaned in weeks White furniture which looked nice in pictures was dirty too and the door looked like it was attacked by an angry dog My shower drain was clogged and the staff did not respond to my request to clean it On a day with heavy rainfall a pretty common occurrence in Amsterdam the roof in my room was leaking luckily not on the bed you could also see signs of earlier water damage I also saw insects running on the floor Overall the second floor of the property looked dirty and badly kept On top of all of this a repairman who came to fix something in a room next door at midnight was very noisy as were many of the guests I understand the challenges of running a hotel in an old building but this negligence is inconsistent with prices demanded by the hotel On the last night after I complained about water damage the night shift manager offered to move me to a different room but that offer came pretty late around midnight when I was already in bed and ready to sleep   \n",
            "\n",
            "\n",
            "\n",
            "\n",
            " Amazing location and building Romantic setting  ,  You When I booked with your company on line you showed me pictures of a room I thought I was getting and paying for and then when we arrived that s room was booked and the staff told me we could only book the villa suite theough them directly Which was completely false advertising After being there we realised that you have grouped lots of rooms on the photos together leaving me the consumer confused and extreamly disgruntled especially as its my my wife s 40th birthday present Please make your website more clear through pricing and photos as again I didn t really know what I was paying for and how much it had wnded up being Your photos told me I was getting something I wasn t Not happy and won t be using you again   \n",
            "\n",
            "\n",
            "\n",
            "\n",
            " Good restaurant with modern design great chill out place Great park nearby the hotel and awesome main stairs  ,  Backyard of the hotel is total mess shouldn t happen in hotel with 4 stars   \n",
            "\n",
            "\n",
            "\n",
            "\n",
            " The room is spacious and bright The hotel is located in a quiet and beautiful park  ,  Cleaner did not change our sheet and duvet everyday but just made bed They also didn t clean the floor and changed the body gel when we run out of it   \n",
            "\n",
            "\n",
            "\n",
            "\n",
            " Good location Set in a lovely park friendly staff Food high quality We Oth enjoyed the breakfast  ,  Apart from the price for the brekfast Everything very good  \n",
            "\n",
            "\n",
            "\n",
            "\n",
            "No Positive ,  Even though the pictures show very clean rooms the actual room was quit dirty and outlived Also check in is at 15 o clock but our room was not ready at that time  \n",
            "\n",
            "\n",
            "\n",
            "\n",
            " The room was big enough and the bed is good The breakfast food and service on the hotel is good outside the hotel there is a big park which is very good for walk in the morning and evening Many people are having picnics and do some bicycling  ,  The aircondition makes so much noise and its hard to sleep at night   \n",
            "\n",
            "\n"
          ]
        }
      ]
    },
    {
      "cell_type": "code",
      "execution_count": 9,
      "metadata": {
        "colab": {
          "base_uri": "https://localhost:8080/"
        },
        "id": "uC8hzOLR1Uk9",
        "outputId": "8ac65214-f167-4fa3-cc1a-f6e110142ece"
      },
      "outputs": [
        {
          "output_type": "stream",
          "name": "stdout",
          "text": [
            "Requirement already satisfied: faiss-gpu in /usr/local/lib/python3.10/dist-packages (1.7.2)\n"
          ]
        }
      ],
      "source": [
        "!pip install faiss-gpu #cpu"
      ]
    },
    {
      "cell_type": "code",
      "execution_count": 10,
      "metadata": {
        "id": "qub1St491OMY"
      },
      "outputs": [],
      "source": [
        "import faiss"
      ]
    },
    {
      "cell_type": "code",
      "execution_count": 11,
      "metadata": {
        "colab": {
          "base_uri": "https://localhost:8080/"
        },
        "collapsed": true,
        "id": "6-cej2Qj1cFM",
        "outputId": "c2567ba4-40ee-4312-ebc9-6d4349661fcb"
      },
      "outputs": [
        {
          "output_type": "stream",
          "name": "stdout",
          "text": [
            "Requirement already satisfied: sentence-transformers in /usr/local/lib/python3.10/dist-packages (3.0.1)\n",
            "Requirement already satisfied: transformers<5.0.0,>=4.34.0 in /usr/local/lib/python3.10/dist-packages (from sentence-transformers) (4.42.4)\n",
            "Requirement already satisfied: tqdm in /usr/local/lib/python3.10/dist-packages (from sentence-transformers) (4.66.4)\n",
            "Requirement already satisfied: torch>=1.11.0 in /usr/local/lib/python3.10/dist-packages (from sentence-transformers) (2.3.1+cu121)\n",
            "Requirement already satisfied: numpy in /usr/local/lib/python3.10/dist-packages (from sentence-transformers) (1.26.4)\n",
            "Requirement already satisfied: scikit-learn in /usr/local/lib/python3.10/dist-packages (from sentence-transformers) (1.3.2)\n",
            "Requirement already satisfied: scipy in /usr/local/lib/python3.10/dist-packages (from sentence-transformers) (1.13.1)\n",
            "Requirement already satisfied: huggingface-hub>=0.15.1 in /usr/local/lib/python3.10/dist-packages (from sentence-transformers) (0.23.5)\n",
            "Requirement already satisfied: Pillow in /usr/local/lib/python3.10/dist-packages (from sentence-transformers) (9.4.0)\n",
            "Requirement already satisfied: filelock in /usr/local/lib/python3.10/dist-packages (from huggingface-hub>=0.15.1->sentence-transformers) (3.15.4)\n",
            "Requirement already satisfied: fsspec>=2023.5.0 in /usr/local/lib/python3.10/dist-packages (from huggingface-hub>=0.15.1->sentence-transformers) (2024.6.1)\n",
            "Requirement already satisfied: packaging>=20.9 in /usr/local/lib/python3.10/dist-packages (from huggingface-hub>=0.15.1->sentence-transformers) (24.1)\n",
            "Requirement already satisfied: pyyaml>=5.1 in /usr/local/lib/python3.10/dist-packages (from huggingface-hub>=0.15.1->sentence-transformers) (6.0.1)\n",
            "Requirement already satisfied: requests in /usr/local/lib/python3.10/dist-packages (from huggingface-hub>=0.15.1->sentence-transformers) (2.31.0)\n",
            "Requirement already satisfied: typing-extensions>=3.7.4.3 in /usr/local/lib/python3.10/dist-packages (from huggingface-hub>=0.15.1->sentence-transformers) (4.12.2)\n",
            "Requirement already satisfied: sympy in /usr/local/lib/python3.10/dist-packages (from torch>=1.11.0->sentence-transformers) (1.13.1)\n",
            "Requirement already satisfied: networkx in /usr/local/lib/python3.10/dist-packages (from torch>=1.11.0->sentence-transformers) (3.3)\n",
            "Requirement already satisfied: jinja2 in /usr/local/lib/python3.10/dist-packages (from torch>=1.11.0->sentence-transformers) (3.1.4)\n",
            "Requirement already satisfied: nvidia-cuda-nvrtc-cu12==12.1.105 in /usr/local/lib/python3.10/dist-packages (from torch>=1.11.0->sentence-transformers) (12.1.105)\n",
            "Requirement already satisfied: nvidia-cuda-runtime-cu12==12.1.105 in /usr/local/lib/python3.10/dist-packages (from torch>=1.11.0->sentence-transformers) (12.1.105)\n",
            "Requirement already satisfied: nvidia-cuda-cupti-cu12==12.1.105 in /usr/local/lib/python3.10/dist-packages (from torch>=1.11.0->sentence-transformers) (12.1.105)\n",
            "Requirement already satisfied: nvidia-cudnn-cu12==8.9.2.26 in /usr/local/lib/python3.10/dist-packages (from torch>=1.11.0->sentence-transformers) (8.9.2.26)\n",
            "Requirement already satisfied: nvidia-cublas-cu12==12.1.3.1 in /usr/local/lib/python3.10/dist-packages (from torch>=1.11.0->sentence-transformers) (12.1.3.1)\n",
            "Requirement already satisfied: nvidia-cufft-cu12==11.0.2.54 in /usr/local/lib/python3.10/dist-packages (from torch>=1.11.0->sentence-transformers) (11.0.2.54)\n",
            "Requirement already satisfied: nvidia-curand-cu12==10.3.2.106 in /usr/local/lib/python3.10/dist-packages (from torch>=1.11.0->sentence-transformers) (10.3.2.106)\n",
            "Requirement already satisfied: nvidia-cusolver-cu12==11.4.5.107 in /usr/local/lib/python3.10/dist-packages (from torch>=1.11.0->sentence-transformers) (11.4.5.107)\n",
            "Requirement already satisfied: nvidia-cusparse-cu12==12.1.0.106 in /usr/local/lib/python3.10/dist-packages (from torch>=1.11.0->sentence-transformers) (12.1.0.106)\n",
            "Requirement already satisfied: nvidia-nccl-cu12==2.20.5 in /usr/local/lib/python3.10/dist-packages (from torch>=1.11.0->sentence-transformers) (2.20.5)\n",
            "Requirement already satisfied: nvidia-nvtx-cu12==12.1.105 in /usr/local/lib/python3.10/dist-packages (from torch>=1.11.0->sentence-transformers) (12.1.105)\n",
            "Requirement already satisfied: triton==2.3.1 in /usr/local/lib/python3.10/dist-packages (from torch>=1.11.0->sentence-transformers) (2.3.1)\n",
            "Requirement already satisfied: nvidia-nvjitlink-cu12 in /usr/local/lib/python3.10/dist-packages (from nvidia-cusolver-cu12==11.4.5.107->torch>=1.11.0->sentence-transformers) (12.6.20)\n",
            "Requirement already satisfied: regex!=2019.12.17 in /usr/local/lib/python3.10/dist-packages (from transformers<5.0.0,>=4.34.0->sentence-transformers) (2024.5.15)\n",
            "Requirement already satisfied: safetensors>=0.4.1 in /usr/local/lib/python3.10/dist-packages (from transformers<5.0.0,>=4.34.0->sentence-transformers) (0.4.3)\n",
            "Requirement already satisfied: tokenizers<0.20,>=0.19 in /usr/local/lib/python3.10/dist-packages (from transformers<5.0.0,>=4.34.0->sentence-transformers) (0.19.1)\n",
            "Requirement already satisfied: joblib>=1.1.1 in /usr/local/lib/python3.10/dist-packages (from scikit-learn->sentence-transformers) (1.4.2)\n",
            "Requirement already satisfied: threadpoolctl>=2.0.0 in /usr/local/lib/python3.10/dist-packages (from scikit-learn->sentence-transformers) (3.5.0)\n",
            "Requirement already satisfied: MarkupSafe>=2.0 in /usr/local/lib/python3.10/dist-packages (from jinja2->torch>=1.11.0->sentence-transformers) (2.1.5)\n",
            "Requirement already satisfied: charset-normalizer<4,>=2 in /usr/local/lib/python3.10/dist-packages (from requests->huggingface-hub>=0.15.1->sentence-transformers) (3.3.2)\n",
            "Requirement already satisfied: idna<4,>=2.5 in /usr/local/lib/python3.10/dist-packages (from requests->huggingface-hub>=0.15.1->sentence-transformers) (3.7)\n",
            "Requirement already satisfied: urllib3<3,>=1.21.1 in /usr/local/lib/python3.10/dist-packages (from requests->huggingface-hub>=0.15.1->sentence-transformers) (2.0.7)\n",
            "Requirement already satisfied: certifi>=2017.4.17 in /usr/local/lib/python3.10/dist-packages (from requests->huggingface-hub>=0.15.1->sentence-transformers) (2024.7.4)\n",
            "Requirement already satisfied: mpmath<1.4,>=1.1.0 in /usr/local/lib/python3.10/dist-packages (from sympy->torch>=1.11.0->sentence-transformers) (1.3.0)\n"
          ]
        }
      ],
      "source": [
        "!pip install -U sentence-transformers"
      ]
    },
    {
      "cell_type": "code",
      "source": [],
      "metadata": {
        "id": "4nb-DoZlI7Q1"
      },
      "execution_count": 4,
      "outputs": []
    },
    {
      "cell_type": "code",
      "execution_count": 5,
      "metadata": {
        "id": "Q0zBlYPh1Yed",
        "colab": {
          "base_uri": "https://localhost:8080/"
        },
        "outputId": "701503a5-2cad-4ffc-d467-9995ffb1282f"
      },
      "outputs": [
        {
          "output_type": "stream",
          "name": "stderr",
          "text": [
            "/usr/local/lib/python3.10/dist-packages/sentence_transformers/cross_encoder/CrossEncoder.py:11: TqdmExperimentalWarning: Using `tqdm.autonotebook.tqdm` in notebook mode. Use `tqdm.tqdm` instead to force console mode (e.g. in jupyter console)\n",
            "  from tqdm.autonotebook import tqdm, trange\n",
            "/usr/local/lib/python3.10/dist-packages/huggingface_hub/utils/_token.py:89: UserWarning: \n",
            "The secret `HF_TOKEN` does not exist in your Colab secrets.\n",
            "To authenticate with the Hugging Face Hub, create a token in your settings tab (https://huggingface.co/settings/tokens), set it as secret in your Google Colab and restart your session.\n",
            "You will be able to reuse this secret in all of your notebooks.\n",
            "Please note that authentication is recommended but still optional to access public models or datasets.\n",
            "  warnings.warn(\n"
          ]
        },
        {
          "output_type": "execute_result",
          "data": {
            "text/plain": [
              "SentenceTransformer(\n",
              "  (0): Transformer({'max_seq_length': 384, 'do_lower_case': False}) with Transformer model: MPNetModel \n",
              "  (1): Pooling({'word_embedding_dimension': 768, 'pooling_mode_cls_token': False, 'pooling_mode_mean_tokens': True, 'pooling_mode_max_tokens': False, 'pooling_mode_mean_sqrt_len_tokens': False, 'pooling_mode_weightedmean_tokens': False, 'pooling_mode_lasttoken': False, 'include_prompt': True})\n",
              "  (2): Normalize()\n",
              ")"
            ]
          },
          "metadata": {},
          "execution_count": 5
        }
      ],
      "source": [
        "import torch\n",
        "torch.cuda.is_available()\n",
        "\n",
        "\n",
        "from sentence_transformers import SentenceTransformer , util\n",
        "import numpy as np\n",
        "# initialize sentence transformer model\n",
        "#model = SentenceTransformer('bert-base-nli-mean-tokens') #encoding model\n",
        "model = SentenceTransformer(\"sentence-transformers/all-mpnet-base-v2\")\n",
        "device = torch.device('cuda' ) # Define the device\n",
        "# device = torch.device('cuda' if torch.cuda.is_available() else 'cpu') # Define the device\n",
        "model.to(device)"
      ]
    },
    {
      "cell_type": "code",
      "source": [
        "filtered_sentences = list({x for x in sentences[:]})\n",
        "len(filtered_sentences)"
      ],
      "metadata": {
        "colab": {
          "base_uri": "https://localhost:8080/"
        },
        "id": "mBq1PTZSYxBw",
        "outputId": "27c31721-d011-47eb-f1b1-481afb24f194"
      },
      "execution_count": 13,
      "outputs": [
        {
          "output_type": "execute_result",
          "data": {
            "text/plain": [
              "499288"
            ]
          },
          "metadata": {},
          "execution_count": 13
        }
      ]
    },
    {
      "cell_type": "code",
      "source": [],
      "metadata": {
        "id": "Zs_n3cUwcsbK"
      },
      "execution_count": 13,
      "outputs": []
    },
    {
      "cell_type": "code",
      "source": [
        "%%time\n",
        "sentence_embeddings = model.encode(filtered_sentences,convert_to_tensor=True)\n",
        "sentence_embeddings.shape"
      ],
      "metadata": {
        "colab": {
          "base_uri": "https://localhost:8080/"
        },
        "id": "XJAcyOVPEPbD",
        "outputId": "1c050934-7819-4a70-9878-06ee7450ef75"
      },
      "execution_count": 14,
      "outputs": [
        {
          "output_type": "stream",
          "name": "stdout",
          "text": [
            "CPU times: user 10min 18s, sys: 26.8 s, total: 10min 44s\n",
            "Wall time: 5min 43s\n"
          ]
        },
        {
          "output_type": "execute_result",
          "data": {
            "text/plain": [
              "torch.Size([499288, 768])"
            ]
          },
          "metadata": {},
          "execution_count": 14
        }
      ]
    },
    {
      "cell_type": "code",
      "source": [
        "len(sentence_embeddings)"
      ],
      "metadata": {
        "colab": {
          "base_uri": "https://localhost:8080/"
        },
        "id": "dOY163BhN7ik",
        "outputId": "7d2e1347-d397-4f99-a8d1-dde573d0a03a"
      },
      "execution_count": 15,
      "outputs": [
        {
          "output_type": "execute_result",
          "data": {
            "text/plain": [
              "499288"
            ]
          },
          "metadata": {},
          "execution_count": 15
        }
      ]
    },
    {
      "cell_type": "code",
      "source": [],
      "metadata": {
        "id": "_y4A0pddYFl-"
      },
      "execution_count": 15,
      "outputs": []
    },
    {
      "cell_type": "markdown",
      "source": [
        "## semantic_search"
      ],
      "metadata": {
        "id": "jBdOcWmpcEWh"
      }
    },
    {
      "cell_type": "code",
      "execution_count": 16,
      "metadata": {
        "id": "uFiOnuYG8xPZ"
      },
      "outputs": [],
      "source": [
        "def semantic_search(query, sentence_embeddings, top_k=3 ):\n",
        "    # Encode the query\n",
        "    query_embedding = model.encode(query, convert_to_tensor=True)\n",
        "    query_embedding = query_embedding.to(device) # Move query embedding to the same device as the model\n",
        "\n",
        "    # Compute cosine similarities between the query and the documents\n",
        "    cosine_scores = util.pytorch_cos_sim(query_embedding, sentence_embeddings.to(device))[0] # Move sentence embeddings to the same device\n",
        "\n",
        "    # Move cosine_scores to CPU before applying NumPy functions\n",
        "    cosine_scores = cosine_scores.cpu()\n",
        "\n",
        "    # Find the top_k highest scores\n",
        "    top_results = np.argpartition(-cosine_scores, range(top_k))[:top_k]\n",
        "\n",
        "    print(f\"Query: {query}\\nTop {top_k} most similar documents:\")\n",
        "    for idx in top_results:\n",
        "        print(\"*\"*20)\n",
        "        print(f\"Score: {cosine_scores[idx]:.4f}\")\n",
        "        print()\n",
        "        print(f\"{sentences[idx]}\")\n",
        "        print()\n",
        "        print(\"*\"*20)"
      ]
    },
    {
      "cell_type": "code",
      "source": [
        "%%time\n",
        "semantic_search('Great location' , sentence_embeddings=sentence_embeddings , top_k=5)"
      ],
      "metadata": {
        "colab": {
          "base_uri": "https://localhost:8080/"
        },
        "id": "SEvwfCKjGRpD",
        "outputId": "c5f352c6-c363-4d06-aef5-3894fa82755e"
      },
      "execution_count": 18,
      "outputs": [
        {
          "output_type": "stream",
          "name": "stdout",
          "text": [
            "Query: Great location\n",
            "Top 5 most similar documents:\n",
            "********************\n",
            "Score: 0.9557\n",
            "\n",
            " Great rooms stunning architecture  ,  Free wifi only for guests booking direct with the hotel not via booking sites No guest lounge so you have to sit in reception or at cafe tables with a minimum spend of 12 50 per head during the day   \n",
            "\n",
            "********************\n",
            "********************\n",
            "Score: 0.9557\n",
            "\n",
            " This property is in an excellent location a small boutique hotel rooms were very clean will definitely stay here again  , No Negative  \n",
            "\n",
            "********************\n",
            "********************\n",
            "Score: 0.9114\n",
            "\n",
            " The staff and my room view  , No Negative  \n",
            "\n",
            "********************\n",
            "********************\n",
            "Score: 0.8671\n",
            "\n",
            " Nothing Hotel awful will not be returning ,  Everything Old dirty needs a re vamp Pool was dirty could not even see through water Dirty  \n",
            "\n",
            "********************\n",
            "********************\n",
            "Score: 0.8642\n",
            "\n",
            " Location and staff ,  I ve stayed in quite a few of the more fancy hotels in this area bearing in mind how expensive this hotel was it was not up to scratch Small room poor storage for clothing no drawers shower was a stand up in a small bath not good enough  \n",
            "\n",
            "********************\n",
            "CPU times: user 60.4 ms, sys: 1.1 ms, total: 61.5 ms\n",
            "Wall time: 33.5 ms\n"
          ]
        }
      ]
    },
    {
      "cell_type": "code",
      "source": [],
      "metadata": {
        "id": "RUPgfkVrF-tk"
      },
      "execution_count": 42,
      "outputs": []
    },
    {
      "cell_type": "code",
      "source": [],
      "metadata": {
        "id": "jEUjEUB_GAUT"
      },
      "execution_count": 42,
      "outputs": []
    },
    {
      "cell_type": "code",
      "execution_count": 42,
      "metadata": {
        "id": "GeBewill8m98"
      },
      "outputs": [],
      "source": []
    },
    {
      "cell_type": "code",
      "execution_count": null,
      "metadata": {
        "id": "I70ibbGg6W3u"
      },
      "outputs": [],
      "source": []
    },
    {
      "cell_type": "code",
      "execution_count": 43,
      "metadata": {
        "id": "FZjCHBh-5ODR"
      },
      "outputs": [],
      "source": []
    },
    {
      "cell_type": "code",
      "execution_count": 44,
      "metadata": {
        "colab": {
          "base_uri": "https://localhost:8080/"
        },
        "id": "0WK_VcBi2DAr",
        "outputId": "39ee87d4-feae-43aa-c2cc-6c38d83d76e7"
      },
      "outputs": [
        {
          "output_type": "execute_result",
          "data": {
            "text/plain": [
              "768"
            ]
          },
          "metadata": {},
          "execution_count": 44
        }
      ],
      "source": [
        "sentence_embeddings.shape[1]\n"
      ]
    },
    {
      "cell_type": "markdown",
      "source": [
        "# faiss"
      ],
      "metadata": {
        "id": "0kI7wRfMeahf"
      }
    },
    {
      "cell_type": "code",
      "source": [
        "import faiss"
      ],
      "metadata": {
        "id": "TbV2q7xJeehO"
      },
      "execution_count": 21,
      "outputs": []
    },
    {
      "cell_type": "markdown",
      "metadata": {
        "id": "z2-llfCk551X"
      },
      "source": [
        "## IndexFlatL2"
      ]
    },
    {
      "cell_type": "code",
      "execution_count": 23,
      "metadata": {
        "colab": {
          "base_uri": "https://localhost:8080/"
        },
        "id": "ZBOpLBRw59b_",
        "outputId": "6260f465-c7e0-4266-8481-924c45567477"
      },
      "outputs": [
        {
          "output_type": "stream",
          "name": "stdout",
          "text": [
            "CPU times: user 790 ms, sys: 1.63 s, total: 2.42 s\n",
            "Wall time: 2.23 s\n"
          ]
        }
      ],
      "source": [
        "%%time\n",
        "query = ['Great location']\n",
        "d = sentence_embeddings.shape[1]\n",
        "index = faiss.IndexFlatL2(d) #euclidean method.  - intialize\n",
        "numpy_embeddings = sentence_embeddings.detach().cpu().numpy()\n",
        "index.add(numpy_embeddings)"
      ]
    },
    {
      "cell_type": "code",
      "execution_count": 24,
      "metadata": {
        "colab": {
          "base_uri": "https://localhost:8080/"
        },
        "id": "xMYe1q6s53Ah",
        "outputId": "ee076e81-eb8a-441a-9be0-feb57f543056"
      },
      "outputs": [
        {
          "output_type": "execute_result",
          "data": {
            "text/plain": [
              "True"
            ]
          },
          "metadata": {},
          "execution_count": 24
        }
      ],
      "source": [
        "index.is_trained"
      ]
    },
    {
      "cell_type": "code",
      "execution_count": 25,
      "metadata": {
        "colab": {
          "base_uri": "https://localhost:8080/"
        },
        "id": "auK0BCQ56MBH",
        "outputId": "8078563a-83b8-420d-80d9-b19e9b566f51"
      },
      "outputs": [
        {
          "output_type": "stream",
          "name": "stdout",
          "text": [
            "CPU times: user 559 ms, sys: 823 µs, total: 560 ms\n",
            "Wall time: 557 ms\n"
          ]
        },
        {
          "output_type": "execute_result",
          "data": {
            "text/plain": [
              "['122153:  This property is in an excellent location a small boutique hotel rooms were very clean will definitely stay here again  , No Negative  ',\n",
              " '320705:  Great rooms stunning architecture  ,  Free wifi only for guests booking direct with the hotel not via booking sites No guest lounge so you have to sit in reception or at cafe tables with a minimum spend of 12 50 per head during the day   ',\n",
              " '28617:  The staff and my room view  , No Negative  ']"
            ]
          },
          "metadata": {},
          "execution_count": 25
        }
      ],
      "source": [
        "%%time\n",
        "k = 3\n",
        "xq = model.encode(\n",
        "    query\n",
        "    )\n",
        "D, I = index.search(xq, k)  # search\n",
        "[f'{i}: {sentences[i]}' for i in I[0]]"
      ]
    },
    {
      "cell_type": "markdown",
      "metadata": {
        "id": "lmW3Iszl54yv"
      },
      "source": [
        "## Quantization"
      ]
    },
    {
      "cell_type": "code",
      "execution_count": 32,
      "metadata": {
        "id": "2Go09_AB6B18"
      },
      "outputs": [],
      "source": [
        "nlist = 100\n",
        "d = sentence_embeddings.shape[1]\n",
        "quantizer = faiss.IndexFlatL2(d)\n",
        "index = faiss.IndexIVFFlat(quantizer, d, nlist)\n",
        "numpy_embeddings = sentence_embeddings.detach().cpu().numpy()"
      ]
    },
    {
      "cell_type": "code",
      "execution_count": 32,
      "metadata": {
        "id": "KcNm3jBs7zdF"
      },
      "outputs": [],
      "source": []
    },
    {
      "cell_type": "code",
      "source": [
        "\n",
        "index.is_trained"
      ],
      "metadata": {
        "colab": {
          "base_uri": "https://localhost:8080/"
        },
        "id": "HByEEpNWevSJ",
        "outputId": "b47c4691-5b77-4fb6-bbdb-861dc5d947bb"
      },
      "execution_count": 33,
      "outputs": [
        {
          "output_type": "execute_result",
          "data": {
            "text/plain": [
              "False"
            ]
          },
          "metadata": {},
          "execution_count": 33
        }
      ]
    },
    {
      "cell_type": "code",
      "source": [
        "\n",
        "index.train(numpy_embeddings)\n"
      ],
      "metadata": {
        "id": "90uLCzJDKhX6"
      },
      "execution_count": 34,
      "outputs": []
    },
    {
      "cell_type": "code",
      "execution_count": 35,
      "metadata": {
        "colab": {
          "base_uri": "https://localhost:8080/"
        },
        "id": "nEpkBijf7Q1A",
        "outputId": "9d97ccd8-1d96-45f7-e6c9-38de5b86618c"
      },
      "outputs": [
        {
          "output_type": "execute_result",
          "data": {
            "text/plain": [
              "True"
            ]
          },
          "metadata": {},
          "execution_count": 35
        }
      ],
      "source": [
        "\n",
        "index.is_trained"
      ]
    },
    {
      "cell_type": "code",
      "source": [],
      "metadata": {
        "id": "nevC_VWZexWV"
      },
      "execution_count": 35,
      "outputs": []
    },
    {
      "cell_type": "code",
      "execution_count": 36,
      "metadata": {
        "id": "sN4S4w9m7SmU",
        "colab": {
          "base_uri": "https://localhost:8080/"
        },
        "outputId": "1c2d67d7-56a6-4388-8fee-eab530961090"
      },
      "outputs": [
        {
          "output_type": "execute_result",
          "data": {
            "text/plain": [
              "499288"
            ]
          },
          "metadata": {},
          "execution_count": 36
        }
      ],
      "source": [
        "\n",
        "index.add(numpy_embeddings)\n",
        "index.ntotal"
      ]
    },
    {
      "cell_type": "code",
      "execution_count": 48,
      "metadata": {
        "colab": {
          "base_uri": "https://localhost:8080/"
        },
        "id": "6miWhgHF7U09",
        "outputId": "e1b3c258-41ce-40e0-b7ff-f530e805c632"
      },
      "outputs": [
        {
          "output_type": "stream",
          "name": "stdout",
          "text": [
            "CPU times: user 21.9 ms, sys: 0 ns, total: 21.9 ms\n",
            "Wall time: 20.9 ms\n"
          ]
        },
        {
          "output_type": "execute_result",
          "data": {
            "text/plain": [
              "['122153:  This property is in an excellent location a small boutique hotel rooms were very clean will definitely stay here again  , No Negative  ',\n",
              " '320705:  Great rooms stunning architecture  ,  Free wifi only for guests booking direct with the hotel not via booking sites No guest lounge so you have to sit in reception or at cafe tables with a minimum spend of 12 50 per head during the day   ',\n",
              " '28617:  The staff and my room view  , No Negative  ']"
            ]
          },
          "metadata": {},
          "execution_count": 48
        }
      ],
      "source": [
        "%%time\n",
        "query = ['Great location']\n",
        "xq = model.encode(\n",
        "    query\n",
        "    )\n",
        "\n",
        "D, I = index.search(xq, k=3)\n",
        "result = [f'{i}: {sentences[i]}' for i in I[0]]\n",
        "result"
      ]
    },
    {
      "cell_type": "markdown",
      "metadata": {
        "id": "L_7S53417h3k"
      },
      "source": [
        "## IVF index\n"
      ]
    },
    {
      "cell_type": "code",
      "execution_count": 66,
      "metadata": {
        "id": "_kntlW7977P3"
      },
      "outputs": [],
      "source": [
        "d = sentence_embeddings.shape[1]\n",
        "quantizer = faiss.IndexFlatL2(d)\n",
        "nlist = 100  # Number of clusters\n",
        "ivf_index = faiss.IndexIVFFlat(quantizer, d, nlist)"
      ]
    },
    {
      "cell_type": "code",
      "source": [
        "ivf_index.is_trained"
      ],
      "metadata": {
        "colab": {
          "base_uri": "https://localhost:8080/"
        },
        "id": "6llKnmlJanqh",
        "outputId": "307a3a04-7762-4c56-bce6-be190167c18d"
      },
      "execution_count": 67,
      "outputs": [
        {
          "output_type": "execute_result",
          "data": {
            "text/plain": [
              "False"
            ]
          },
          "metadata": {},
          "execution_count": 67
        }
      ]
    },
    {
      "cell_type": "code",
      "source": [
        "ivf_index.train(numpy_embeddings)"
      ],
      "metadata": {
        "id": "jatZq272aqoE"
      },
      "execution_count": 68,
      "outputs": []
    },
    {
      "cell_type": "code",
      "source": [
        "ivf_index.is_trained"
      ],
      "metadata": {
        "colab": {
          "base_uri": "https://localhost:8080/"
        },
        "id": "nTZMSjTBark6",
        "outputId": "e542f8b9-7519-4a70-e715-0db5aaed47f5"
      },
      "execution_count": 69,
      "outputs": [
        {
          "output_type": "execute_result",
          "data": {
            "text/plain": [
              "True"
            ]
          },
          "metadata": {},
          "execution_count": 69
        }
      ]
    },
    {
      "cell_type": "code",
      "source": [
        "ivf_index.add(numpy_embeddings)\n",
        "ivf_index.ntotal"
      ],
      "metadata": {
        "colab": {
          "base_uri": "https://localhost:8080/"
        },
        "id": "T-9nY8D3atDy",
        "outputId": "5b460315-e1de-4731-db62-70e8b55f17ad"
      },
      "execution_count": 70,
      "outputs": [
        {
          "output_type": "execute_result",
          "data": {
            "text/plain": [
              "499288"
            ]
          },
          "metadata": {},
          "execution_count": 70
        }
      ]
    },
    {
      "cell_type": "code",
      "execution_count": 78,
      "metadata": {
        "id": "UENZbagI78fG",
        "colab": {
          "base_uri": "https://localhost:8080/"
        },
        "outputId": "34da488f-fd84-42a8-f2c6-b3bd5e55e774"
      },
      "outputs": [
        {
          "output_type": "stream",
          "name": "stdout",
          "text": [
            "CPU times: user 4.78 ms, sys: 0 ns, total: 4.78 ms\n",
            "Wall time: 4.12 ms\n"
          ]
        },
        {
          "output_type": "execute_result",
          "data": {
            "text/plain": [
              "['122153:  This property is in an excellent location a small boutique hotel rooms were very clean will definitely stay here again  , No Negative  ',\n",
              " '320705:  Great rooms stunning architecture  ,  Free wifi only for guests booking direct with the hotel not via booking sites No guest lounge so you have to sit in reception or at cafe tables with a minimum spend of 12 50 per head during the day   ']"
            ]
          },
          "metadata": {},
          "execution_count": 78
        }
      ],
      "source": [
        "%%time\n",
        "# Querying the IVF index\n",
        "D, I = ivf_index.search(xq, k=2)\n",
        "result = [f'{i}: {sentences[i]}' for i in I[0]]\n",
        "result"
      ]
    },
    {
      "cell_type": "markdown",
      "metadata": {
        "id": "27RmMAMa79Bv"
      },
      "source": [
        "## Hierarchical Navigable Small World (HNSW) Index"
      ]
    },
    {
      "cell_type": "code",
      "execution_count": 79,
      "metadata": {
        "id": "NU9WKVMP79FU",
        "colab": {
          "base_uri": "https://localhost:8080/"
        },
        "outputId": "18b980ca-23b4-4eda-82fe-099c3e0f1ebb"
      },
      "outputs": [
        {
          "output_type": "execute_result",
          "data": {
            "text/plain": [
              "499288"
            ]
          },
          "metadata": {},
          "execution_count": 79
        }
      ],
      "source": [
        "hnsw_index = faiss.IndexHNSWFlat(d, 5)  # 5 is the number of neighbors\n",
        "hnsw_index.add(numpy_embeddings)\n",
        "hnsw_index.ntotal"
      ]
    },
    {
      "cell_type": "code",
      "source": [
        "query = ['Great location']\n",
        "xq = model.encode(\n",
        "    query\n",
        "    )"
      ],
      "metadata": {
        "id": "pQfIeS1Yj_PP"
      },
      "execution_count": null,
      "outputs": []
    },
    {
      "cell_type": "code",
      "execution_count": 84,
      "metadata": {
        "id": "slQJNShx79If",
        "colab": {
          "base_uri": "https://localhost:8080/"
        },
        "outputId": "f3287598-9515-4abf-e38d-ae3206a62ce8"
      },
      "outputs": [
        {
          "output_type": "stream",
          "name": "stdout",
          "text": [
            "CPU times: user 4.13 ms, sys: 0 ns, total: 4.13 ms\n",
            "Wall time: 955 µs\n"
          ]
        },
        {
          "output_type": "execute_result",
          "data": {
            "text/plain": [
              "[' This property is in an excellent location a small boutique hotel rooms were very clean will definitely stay here again  , No Negative  ',\n",
              " ' Great rooms stunning architecture  ,  Free wifi only for guests booking direct with the hotel not via booking sites No guest lounge so you have to sit in reception or at cafe tables with a minimum spend of 12 50 per head during the day   ',\n",
              " ' The staff and my room view  , No Negative  ']"
            ]
          },
          "metadata": {},
          "execution_count": 84
        }
      ],
      "source": [
        "%%time\n",
        "\n",
        "# Querying the HNSW index\n",
        "D, I = hnsw_index.search(xq, k=2)\n",
        "result = [f'{sentences[i]}' for i in I[0]]\n",
        "result"
      ]
    },
    {
      "cell_type": "markdown",
      "metadata": {
        "id": "5QXizo7B79SX"
      },
      "source": [
        "## Composite Indexes (IVFPQ)  \n"
      ]
    },
    {
      "cell_type": "code",
      "execution_count": 81,
      "metadata": {
        "id": "nzu2fl3o79Vf",
        "colab": {
          "base_uri": "https://localhost:8080/"
        },
        "outputId": "b2e1e517-0f20-44f1-cd26-f0b718bff165"
      },
      "outputs": [
        {
          "output_type": "execute_result",
          "data": {
            "text/plain": [
              "499288"
            ]
          },
          "metadata": {},
          "execution_count": 81
        }
      ],
      "source": [
        "# Composite Indexes (IVFPQ)\n",
        "\n",
        "quantizer = faiss.IndexFlatL2(d)\n",
        "ivfpq_index = faiss.IndexIVFPQ(quantizer, d, nlist, 4, 8)  # 4 subquantizers, 8 bits per subvector\n",
        "ivfpq_index.train(numpy_embeddings)\n",
        "ivfpq_index.add(numpy_embeddings)\n",
        "ivfpq_index.ntotal"
      ]
    },
    {
      "cell_type": "code",
      "source": [
        "query = ['Great location']\n",
        "xq = model.encode(\n",
        "    query\n",
        "    )"
      ],
      "metadata": {
        "id": "EU7ahI0ekBfF"
      },
      "execution_count": null,
      "outputs": []
    },
    {
      "cell_type": "code",
      "execution_count": 85,
      "metadata": {
        "id": "8OxCyljU79Y1",
        "colab": {
          "base_uri": "https://localhost:8080/"
        },
        "outputId": "3aa37fe5-e1a1-4b16-94ab-05bfc789abbb"
      },
      "outputs": [
        {
          "output_type": "stream",
          "name": "stdout",
          "text": [
            "CPU times: user 1.63 ms, sys: 9 µs, total: 1.64 ms\n",
            "Wall time: 1.02 ms\n"
          ]
        },
        {
          "output_type": "execute_result",
          "data": {
            "text/plain": [
              "[' Great rooms stunning architecture  ,  Free wifi only for guests booking direct with the hotel not via booking sites No guest lounge so you have to sit in reception or at cafe tables with a minimum spend of 12 50 per head during the day   ',\n",
              " ' This property is in an excellent location a small boutique hotel rooms were very clean will definitely stay here again  , No Negative  ']"
            ]
          },
          "metadata": {},
          "execution_count": 85
        }
      ],
      "source": [
        "%%time\n",
        "# Querying the IVFPQ index\n",
        "D, I = ivfpq_index.search(xq, k=2)\n",
        "result = [f'{sentences[i]}' for i in I[0]]\n",
        "result"
      ]
    },
    {
      "cell_type": "markdown",
      "metadata": {
        "id": "N0y0Vxr279fj"
      },
      "source": [
        "## GPU-specific Indexes (using the GPU version of FAISS)\n"
      ]
    },
    {
      "cell_type": "code",
      "execution_count": null,
      "metadata": {
        "id": "ll5EHmjy79iq"
      },
      "outputs": [],
      "source": [
        "\n",
        "flat_index = faiss.IndexFlatL2(d)\n",
        "\n",
        "res = faiss.StandardGpuResources()\n",
        "gpu_index = faiss.index_cpu_to_gpu(res, 0, flat_index)\n",
        "gpu_index.add(numpy_embeddings)\n",
        "gpu_index.ntotal"
      ]
    },
    {
      "cell_type": "code",
      "source": [
        "query = ['Great location']\n",
        "xq = model.encode(\n",
        "    query\n",
        "    )"
      ],
      "metadata": {
        "id": "CccCwUOekCxI"
      },
      "execution_count": null,
      "outputs": []
    },
    {
      "cell_type": "code",
      "source": [
        "%%time\n",
        "# Querying the GPU index\n",
        "D, I = gpu_index.search(xq, k=2)\n",
        "result = [f'{sentences[i]}' for i in I[0]]\n",
        "result"
      ],
      "metadata": {
        "id": "m8o91ZCfVoyz"
      },
      "execution_count": null,
      "outputs": []
    }
  ],
  "metadata": {
    "accelerator": "GPU",
    "colab": {
      "gpuType": "A100",
      "provenance": [],
      "collapsed_sections": [
        "jBdOcWmpcEWh",
        "L_7S53417h3k"
      ],
      "machine_shape": "hm"
    },
    "kernelspec": {
      "display_name": "Python 3",
      "name": "python3"
    },
    "language_info": {
      "name": "python"
    }
  },
  "nbformat": 4,
  "nbformat_minor": 0
}